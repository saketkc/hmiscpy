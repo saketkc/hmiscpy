{
 "cells": [
  {
   "cell_type": "code",
   "execution_count": null,
   "id": "174d1946-9b2a-402b-9a3a-7b0fbac26f6b",
   "metadata": {},
   "outputs": [],
   "source": [
    "from hmispy import read_hmis_xls, list_codes, search_codes\n",
    "import pandas as pd\n",
    "import os\n",
    "import glob"
   ]
  },
  {
   "cell_type": "code",
   "execution_count": null,
   "id": "65f497f0-1886-4630-b333-2131ca49a02b",
   "metadata": {},
   "outputs": [],
   "source": [
    "search_codes(\"pre term\")"
   ]
  },
  {
   "cell_type": "code",
   "execution_count": null,
   "id": "c4ad87a4-4d39-42d6-ae5f-4f403fec9395",
   "metadata": {},
   "outputs": [],
   "source": []
  },
  {
   "cell_type": "code",
   "execution_count": null,
   "id": "44c81301-bdb5-4b08-8e86-3c028bbd2f0a",
   "metadata": {},
   "outputs": [],
   "source": [
    "all_df_preterm = list()\n",
    "for year in os.listdir(\n",
    "    \"/Users/saket/github/misc_projects/22_india_births//data/download_April2024/\"\n",
    "):\n",
    "    d = os.path.join(\n",
    "        \"/Users/saket/github/misc_projects/22_india_births/data/download_April2024\",\n",
    "        year,\n",
    "        year,\n",
    "    )\n",
    "\n",
    "    if not os.path.isdir(d):\n",
    "        continue\n",
    "    xls = glob.glob(os.path.join(d, \"A.MonthWise\", \"*.xls*\"))\n",
    "    for f in xls:\n",
    "        df_preterm = read_hmis_xls(f, codes=[\"4.1.2\"])\n",
    "        df_preterm[\"year\"] = year\n",
    "        all_df_preterm.append(df_preterm)\n",
    "all_df_preterm = pd.concat(all_df_preterm)\n",
    "all_df_preterm\n",
    "all_df_preterm.to_csv(\"/Users/saket/github/misc_projects/22_india_births/data/allyears_preterm_births.csv\")\n"
   ]
  },
  {
   "cell_type": "code",
   "execution_count": null,
   "id": "dc561cad-6af5-489e-97ce-1ee517a5b285",
   "metadata": {},
   "outputs": [],
   "source": [
    "search_codes(\"live birth\")"
   ]
  },
  {
   "cell_type": "code",
   "execution_count": null,
   "id": "b5b264b9-d484-45d5-b92b-7b809da84807",
   "metadata": {},
   "outputs": [],
   "source": [
    "all_df_live_birth = list()\n",
    "for year in os.listdir(\n",
    "    \"/Users/saket/github/misc_projects/22_india_births//data/download_April2024/\"\n",
    "):\n",
    "    d = os.path.join(\n",
    "        \"/Users/saket/github/misc_projects/22_india_births/data/download_April2024\",\n",
    "        year,\n",
    "        year,\n",
    "    )\n",
    "    if not os.path.isdir(d):\n",
    "        continue\n",
    "    xls = glob.glob(os.path.join(d, \"A.MonthWise\", \"*.xls*\"))\n",
    "    for f in xls:\n",
    "        df_live_birth = read_hmis_xls(f, codes=[\"4.1.1.a\", \"4.1.1.b\"])\n",
    "        df_live_birth[\"year\"] = year\n",
    "        all_df_live_birth.append(df_preterm)\n",
    "all_df_live_birth = pd.concat(all_df_live_birth)\n",
    "all_df_live_birth\n",
    "all_df_live_birth.to_csv(\"/Users/saket/github/misc_projects/22_india_births/data/allyears_live_births.csv\")\n",
    "\n"
   ]
  }
 ],
 "metadata": {
  "kernelspec": {
   "display_name": "Python [conda env:hmiscpy]",
   "language": "python",
   "name": "conda-env-hmiscpy-py"
  },
  "language_info": {
   "codemirror_mode": {
    "name": "ipython",
    "version": 3
   },
   "file_extension": ".py",
   "mimetype": "text/x-python",
   "name": "python",
   "nbconvert_exporter": "python",
   "pygments_lexer": "ipython3",
   "version": "3.12.3"
  }
 },
 "nbformat": 4,
 "nbformat_minor": 5
}
